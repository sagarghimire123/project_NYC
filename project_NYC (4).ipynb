{
  "nbformat": 4,
  "nbformat_minor": 0,
  "metadata": {
    "colab": {
      "name": "project_NYC.ipynb",
      "provenance": [],
      "collapsed_sections": []
    },
    "kernelspec": {
      "name": "python3",
      "display_name": "Python 3"
    },
    "language_info": {
      "name": "python"
    }
  },
  "cells": [
    {
      "cell_type": "code",
      "metadata": {
        "id": "4Q5GfH2FC0XG"
      },
      "source": [
        "# Data set for Diagnoses of  NYC HIV/AIDS by Year, Neighbourhood, Sex, Race and Ethnicity. We are mostly focus on data set for HIV and AIDS only.\n",
        "\n",
        "import pandas as pd\n",
        "import numpy as np\n"
      ],
      "execution_count": null,
      "outputs": []
    },
    {
      "cell_type": "code",
      "metadata": {
        "id": "UgjBt41BCEMW"
      },
      "source": [
        "!curl 'https://data.cityofnewyork.us/api/views/ykvb-493p/rows.csv?accessType=DOWNLOAD' -o ykvb-493p.csv"
      ],
      "execution_count": null,
      "outputs": []
    },
    {
      "cell_type": "code",
      "metadata": {
        "id": "EwE2fuXGC2eV"
      },
      "source": [
        "NYC=pd.read_csv(\"ykvb-493p.csv\")\n",
        "len(NYC)  \n",
        "# The total length or rows of this data set is 2928.\n",
        "\n",
        "\n"
      ],
      "execution_count": null,
      "outputs": []
    },
    {
      "cell_type": "code",
      "metadata": {
        "id": "2guNLnYpOLZs"
      },
      "source": [
        "NYC"
      ],
      "execution_count": null,
      "outputs": []
    },
    {
      "cell_type": "code",
      "metadata": {
        "id": "FXY1mp2zPr4q"
      },
      "source": [
        "\n",
        "NYC = NYC.replace('*', np.nan)\n",
        "NYC = NYC.astype(dtype=\n",
        "           {'Neighborhood (U.H.F)':'category',\n",
        "            'SEX': 'category',\n",
        "            'RACE/ETHNICITY': 'category',\n",
        "            'TOTAL NUMBER OF HIV DIAGNOSES': 'float',\n",
        "            'HIV DIAGNOSES PER 100,000 POPULATION': 'float',\n",
        "            'TOTAL NUMBER OF CONCURRENT HIV/AIDS DIAGNOSES': 'float',\n",
        "            'PROPORTION OF CONCURRENT HIV/AIDS DIAGNOSES AMONG ALL HIV DIAGNOSES': 'float',\n",
        "            'TOTAL NUMBER OF AIDS DIAGNOSES': 'float',\n",
        "            'AIDS DIAGNOSES PER 100,000 POPULATION': 'float'\n",
        "          })\n",
        "\n",
        "NYC.dtypes"
      ],
      "execution_count": null,
      "outputs": []
    },
    {
      "cell_type": "code",
      "metadata": {
        "id": "V2z1luf5RVxL"
      },
      "source": [
        "# QUestion no.1 total male and female patient for HIV and AIDS in 2013 only."
      ],
      "execution_count": null,
      "outputs": []
    },
    {
      "cell_type": "code",
      "metadata": {
        "id": "UIrv-BU6_nlg"
      },
      "source": [
        "NYC_HIV_AIDS_2013 = NYC[\n",
        "                 (NYC['YEAR']==2013) & \n",
        "                 (NYC['Neighborhood (U.H.F)']!='All') & \n",
        "                 (NYC['SEX']!='All') & \n",
        "                 (NYC['RACE/ETHNICITY']!='All')\n",
        "                 ]\n",
        "\n",
        "(NYC_HIV_AIDS_2013.groupby('SEX')['TOTAL NUMBER OF HIV DIAGNOSES','TOTAL NUMBER OF AIDS DIAGNOSES'].sum())"
      ],
      "execution_count": null,
      "outputs": []
    },
    {
      "cell_type": "code",
      "metadata": {
        "id": "o4SxCjJcyHhA"
      },
      "source": [
        "(NYC_HIV_AIDS_2013.groupby('SEX')['TOTAL NUMBER OF HIV DIAGNOSES','TOTAL NUMBER OF AIDS DIAGNOSES'].sum()).plot.bar()"
      ],
      "execution_count": null,
      "outputs": []
    },
    {
      "cell_type": "code",
      "metadata": {
        "id": "Q8cXPCIARZn3"
      },
      "source": [
        "# Question no.2 Total male and female patient for HIV and AIDS for years 2010 to 2013."
      ],
      "execution_count": null,
      "outputs": []
    },
    {
      "cell_type": "code",
      "metadata": {
        "id": "_VbeQmkgRdL8"
      },
      "source": [
        "NYC_HIV_AIDS_ALL_YEAR = NYC[\n",
        "                 (NYC['Neighborhood (U.H.F)']!='All') & \n",
        "                 (NYC['SEX']!='All') & \n",
        "                 (NYC['RACE/ETHNICITY']!='All')\n",
        "                 ]\n",
        "\n",
        "(NYC_HIV_AIDS_ALL_YEAR.groupby('SEX')['TOTAL NUMBER OF HIV DIAGNOSES','TOTAL NUMBER OF AIDS DIAGNOSES'].sum())"
      ],
      "execution_count": null,
      "outputs": []
    },
    {
      "cell_type": "code",
      "metadata": {
        "id": "uTcN2AwAyW4-"
      },
      "source": [
        "(NYC_HIV_AIDS_ALL_YEAR.groupby('SEX')['TOTAL NUMBER OF HIV DIAGNOSES','TOTAL NUMBER OF AIDS DIAGNOSES'].sum()).plot.bar()"
      ],
      "execution_count": null,
      "outputs": []
    },
    {
      "cell_type": "code",
      "metadata": {
        "id": "bOm2LV1yUtnK"
      },
      "source": [
        "#Question no.3 Race/Ethnicity most affected and which was least."
      ],
      "execution_count": null,
      "outputs": []
    },
    {
      "cell_type": "code",
      "metadata": {
        "id": "qZW-6RBSU-so"
      },
      "source": [
        "NYC_RACE = NYC[\n",
        "                 (NYC['Neighborhood (U.H.F)']!='All') & \n",
        "                 (NYC['SEX']!='All') & \n",
        "                 (NYC['RACE/ETHNICITY']!='All')\n",
        "                 ]\n",
        "\n",
        "NYC_RACE=NYC_RACE.groupby('RACE/ETHNICITY')['TOTAL NUMBER OF HIV DIAGNOSES','TOTAL NUMBER OF AIDS DIAGNOSES'].sum()\n",
        "NYC_RACE"
      ],
      "execution_count": null,
      "outputs": []
    },
    {
      "cell_type": "code",
      "metadata": {
        "id": "eZOOhK65yfgC"
      },
      "source": [
        "NYC_RACE.plot.bar()"
      ],
      "execution_count": null,
      "outputs": []
    },
    {
      "cell_type": "code",
      "metadata": {
        "id": "aEa9T7EAWRQR"
      },
      "source": [
        "# Question no.4 Neighbourhood affected most and least."
      ],
      "execution_count": null,
      "outputs": []
    },
    {
      "cell_type": "code",
      "metadata": {
        "id": "sZtILHd4WraB"
      },
      "source": [
        "NYC_NEIGHBOURHOOD = NYC[\n",
        "                 (NYC['Neighborhood (U.H.F)']!='All') & \n",
        "                 (NYC['SEX']!='All') & \n",
        "                 (NYC['RACE/ETHNICITY']!='All')\n",
        "                 ]\n",
        "\n",
        "NYC_NEIGHBOURHOOD_AFFECTED = NYC_NEIGHBOURHOOD.groupby('Neighborhood (U.H.F)')['TOTAL NUMBER OF HIV DIAGNOSES','TOTAL NUMBER OF AIDS DIAGNOSES'].sum()\n",
        "NYC_NEIGHBOURHOOD_AFFECTED\n"
      ],
      "execution_count": null,
      "outputs": []
    },
    {
      "cell_type": "code",
      "metadata": {
        "id": "fmGXKZzJylqv"
      },
      "source": [
        "NYC_NEIGHBOURHOOD_AFFECTED.plot.pie(y='TOTAL NUMBER OF HIV DIAGNOSES',figsize=(15,15))"
      ],
      "execution_count": null,
      "outputs": []
    },
    {
      "cell_type": "code",
      "metadata": {
        "id": "IIVj5TE40lO_"
      },
      "source": [
        "NYC_NEIGHBOURHOOD_AFFECTED.plot.pie(y='TOTAL NUMBER OF AIDS DIAGNOSES',figsize=(15,15))"
      ],
      "execution_count": null,
      "outputs": []
    },
    {
      "cell_type": "code",
      "metadata": {
        "id": "9eNWfoPG_WxC"
      },
      "source": [
        "NYC_NEIGHBOURHOOD_AFFECTED.max()"
      ],
      "execution_count": null,
      "outputs": []
    },
    {
      "cell_type": "code",
      "metadata": {
        "id": "ftj0OqW5Y-KX"
      },
      "source": [
        "# Question no.5 total number of HIV cases in data base"
      ],
      "execution_count": null,
      "outputs": []
    },
    {
      "cell_type": "code",
      "metadata": {
        "id": "5RPinSIAbltU"
      },
      "source": [
        "print(\"Total numbe of HIV cases in data set is\")\n",
        "TOTAL_HIV=NYC[NYC['Neighborhood (U.H.F)']=='All']['TOTAL NUMBER OF HIV DIAGNOSES'].sum()\n",
        "TOTAL_HIV\n"
      ],
      "execution_count": null,
      "outputs": []
    },
    {
      "cell_type": "code",
      "metadata": {
        "id": "9hQ8vjKrfq6Z"
      },
      "source": [
        "# Question no.6  Arranged the RAce/Ethinicity in ascending order for numbers."
      ],
      "execution_count": null,
      "outputs": []
    },
    {
      "cell_type": "code",
      "metadata": {
        "id": "L3I5DQ0IgDeK"
      },
      "source": [
        "NYC_RACE=NYC_RACE.groupby('RACE/ETHNICITY')['TOTAL NUMBER OF HIV DIAGNOSES','TOTAL NUMBER OF AIDS DIAGNOSES'].sum()\n",
        "NYC_RACE.sort_values(by=[\"TOTAL NUMBER OF HIV DIAGNOSES\",\t\"TOTAL NUMBER OF AIDS DIAGNOSES\"], inplace=True)\n",
        "NYC_RACE"
      ],
      "execution_count": null,
      "outputs": []
    },
    {
      "cell_type": "code",
      "metadata": {
        "id": "uQqo5jtQ03Xv"
      },
      "source": [
        "NYC_RACE.plot.bar()"
      ],
      "execution_count": null,
      "outputs": []
    },
    {
      "cell_type": "code",
      "metadata": {
        "id": "zRYnUQ4ugtXg"
      },
      "source": [
        "# Question no.7 The average number of cases for HIV per 100,000 people."
      ],
      "execution_count": null,
      "outputs": []
    },
    {
      "cell_type": "code",
      "metadata": {
        "id": "CYHXra0thQy1"
      },
      "source": [
        "NYC_AVG = NYC[\n",
        "                 (NYC['Neighborhood (U.H.F)']!='All') & \n",
        "                 (NYC['SEX']!='All') & \n",
        "                 (NYC['RACE/ETHNICITY']!='All')\n",
        "                 ]\n",
        "\n",
        "NYC_AVG=NYC_AVG.groupby('RACE/ETHNICITY')['HIV DIAGNOSES PER 100,000 POPULATION'].sum()"
      ],
      "execution_count": null,
      "outputs": []
    },
    {
      "cell_type": "code",
      "metadata": {
        "id": "jmmtZYxaisYI"
      },
      "source": [
        "NYC_AVG"
      ],
      "execution_count": null,
      "outputs": []
    },
    {
      "cell_type": "code",
      "metadata": {
        "id": "fKNEfbZh0-xU"
      },
      "source": [
        "NYC_AVG.plot.pie(y='HIV DIAGNOSES PER 100,000 POPULATION', figsize=(7,7))"
      ],
      "execution_count": null,
      "outputs": []
    },
    {
      "cell_type": "code",
      "metadata": {
        "id": "IhWbk9msjXsN"
      },
      "source": [
        "# Question no.8 To count the total number of concurrent cases in both HIV/AIDS."
      ],
      "execution_count": null,
      "outputs": []
    },
    {
      "cell_type": "code",
      "metadata": {
        "id": "8t2oMNnhjdwP"
      },
      "source": [
        "NYC_HIV_AIDS_ALL_YEAR_CON = NYC[\n",
        "                 (NYC['YEAR']==2013) & \n",
        "                 (NYC['Neighborhood (U.H.F)']!='All') & \n",
        "                 (NYC['SEX']!='All') & \n",
        "                 (NYC['RACE/ETHNICITY']!='All')\n",
        "                 ]\n",
        "\n",
        "(NYC_HIV_AIDS_ALL_YEAR_CON.groupby('SEX')[\"TOTAL NUMBER OF CONCURRENT HIV/AIDS DIAGNOSES\"].sum())\n"
      ],
      "execution_count": null,
      "outputs": []
    },
    {
      "cell_type": "code",
      "metadata": {
        "id": "-TyHP7ZS1cR7"
      },
      "source": [
        "(NYC_HIV_AIDS_ALL_YEAR_CON.groupby('SEX')[\"TOTAL NUMBER OF CONCURRENT HIV/AIDS DIAGNOSES\"].sum()).plot.bar()"
      ],
      "execution_count": null,
      "outputs": []
    },
    {
      "cell_type": "code",
      "metadata": {
        "id": "SxMwpwjdkWH5"
      },
      "source": [
        "# Question no.9 Total AIDS cases in the data set."
      ],
      "execution_count": null,
      "outputs": []
    },
    {
      "cell_type": "code",
      "metadata": {
        "id": "dqiQosRikWgH"
      },
      "source": [
        "print(\"Total numbe of AIDS cases in data set is\")\n",
        "TOTAL_AIDS=NYC[NYC['Neighborhood (U.H.F)']=='All']['TOTAL NUMBER OF AIDS DIAGNOSES'].sum()\n",
        "TOTAL_AIDS"
      ],
      "execution_count": null,
      "outputs": []
    },
    {
      "cell_type": "code",
      "metadata": {
        "id": "eiotWf2ck-Bd"
      },
      "source": [
        "# Question no.10 Total population infected by HIV/AIDS"
      ],
      "execution_count": null,
      "outputs": []
    },
    {
      "cell_type": "code",
      "metadata": {
        "id": "Tn5bpSXzlpCr"
      },
      "source": [
        "\n",
        "TOTAL_AIDS=NYC[NYC['Neighborhood (U.H.F)']=='All']['TOTAL NUMBER OF AIDS DIAGNOSES'].sum()"
      ],
      "execution_count": null,
      "outputs": []
    },
    {
      "cell_type": "code",
      "metadata": {
        "id": "Z_S8e8jemmvY"
      },
      "source": [
        "TOTAL_HIV_AIDS=TOTAL_AIDS+TOTAL_HIV\n",
        "print(\"Total patient of HIV/AIDS is\",TOTAL_AIDS+TOTAL_HIV)"
      ],
      "execution_count": null,
      "outputs": []
    }
  ]
}